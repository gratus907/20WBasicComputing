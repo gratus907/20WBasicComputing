{
 "cells": [
  {
   "cell_type": "markdown",
   "metadata": {
    "collapsed": true,
    "pycharm": {
     "name": "#%% md\n"
    }
   },
   "source": [
    "## December 31, 2020 실습\n",
    "2020년의 끝을 파이썬과 함께하게 되었습니다. Happy New year.\n",
    "오늘 실습은 List에 대한 내용으로, 문제 수가 적은 대신 조금 어렵게 느껴질 수 있을 것 같습니다."
   ]
  },
  {
   "cell_type": "markdown",
   "source": [
    "### 실습 1. 상품 재고 관리\n",
    "List를 사용해 보는 기본 연습 문제입니다. 지금까지 배운 모든 문법을 사용하는 일종의 종합 문제 성격도 있네요.\n",
    "\n",
    "문제를 조금만 더 정확하게 정하고 가겠습니다.\n",
    "\n",
    "1. 상품 삭제 시, 존재하지 않는 상품명을 입력하면 `상품을 찾지 못하였습니다` 를 출력해 주세요\n",
    "2. 상품 검색 시에도 마찬가지입니다. 즉, 삭제는 검색을 포함하게 작성해주세요.\n",
    "3. 삽입이나 삭제에 성공하면 현재의 상품 리스트를 출력해 주세요."
   ],
   "metadata": {
    "collapsed": false
   }
  },
  {
   "cell_type": "code",
   "execution_count": 1,
   "outputs": [
    {
     "name": "stdout",
     "output_type": "stream",
     "text": [
      "상품재고관리 프로그램\n",
      "\n"
     ]
    },
    {
     "ename": "ValueError",
     "evalue": "invalid literal for int() with base 10: ''",
     "output_type": "error",
     "traceback": [
      "\u001B[1;31m---------------------------------------------------------------------------\u001B[0m",
      "\u001B[1;31mValueError\u001B[0m                                Traceback (most recent call last)",
      "\u001B[1;32m<ipython-input-1-eb4b82331eab>\u001B[0m in \u001B[0;36m<module>\u001B[1;34m\u001B[0m\n\u001B[0;32m      5\u001B[0m \u001B[1;32mwhile\u001B[0m \u001B[1;32mTrue\u001B[0m\u001B[1;33m:\u001B[0m\u001B[1;33m\u001B[0m\u001B[1;33m\u001B[0m\u001B[0m\n\u001B[0;32m      6\u001B[0m     \u001B[0mprint\u001B[0m\u001B[1;33m(\u001B[0m\u001B[1;33m)\u001B[0m\u001B[1;33m\u001B[0m\u001B[1;33m\u001B[0m\u001B[0m\n\u001B[1;32m----> 7\u001B[1;33m     \u001B[0mop\u001B[0m \u001B[1;33m=\u001B[0m \u001B[0mint\u001B[0m\u001B[1;33m(\u001B[0m\u001B[0minput\u001B[0m\u001B[1;33m(\u001B[0m\u001B[0mprompt\u001B[0m\u001B[1;33m)\u001B[0m\u001B[1;33m)\u001B[0m\u001B[1;33m\u001B[0m\u001B[1;33m\u001B[0m\u001B[0m\n\u001B[0m\u001B[0;32m      8\u001B[0m     \u001B[1;32mif\u001B[0m \u001B[0mop\u001B[0m \u001B[1;33m==\u001B[0m \u001B[1;36m1\u001B[0m\u001B[1;33m:\u001B[0m\u001B[1;33m\u001B[0m\u001B[1;33m\u001B[0m\u001B[0m\n\u001B[0;32m      9\u001B[0m         \u001B[0mprodName\u001B[0m \u001B[1;33m=\u001B[0m \u001B[0minput\u001B[0m\u001B[1;33m(\u001B[0m\u001B[1;34m\"상품관리1-삽입) 삽입하고자 하는 상품은?\"\u001B[0m\u001B[1;33m)\u001B[0m\u001B[1;33m\u001B[0m\u001B[1;33m\u001B[0m\u001B[0m\n",
      "\u001B[1;31mValueError\u001B[0m: invalid literal for int() with base 10: ''"
     ]
    }
   ],
   "source": [
    "print(\"상품재고관리 프로그램\")\n",
    "prompt = \"상품관리(1. 삽입, 2.삭제, 3.상품 확인, 4.종료):\"\n",
    "prodList = [\"커피\", \"우유\", \"바나나\", \"감귤\", \"화장지\",\n",
    "            \"장갑\", \"이불\", \"베개\", \"장난감\", \"음료수\", \"빵\"]\n",
    "while True:\n",
    "    print()\n",
    "    op = int(input(prompt))\n",
    "    if op == 1:\n",
    "        prodName = input(\"상품관리1-삽입) 삽입하고자 하는 상품은?\")\n",
    "        position = int(input(\"상품관리1-삽입) 삽입하고자 하는 위치는?\"))\n",
    "        prodList.insert(position, prodName)\n",
    "        print(f\"{prodName} 삽입 완료\")\n",
    "        print(prodList)\n",
    "    elif op == 2:\n",
    "        prodName = input(\"상품관리2-삭제) 삭제하고자 하는 상품은?\")\n",
    "        if prodName in prodList:\n",
    "            prodList.remove(prodName)\n",
    "            print(f\"{prodName} 삭제 완료\")\n",
    "            print(prodList)\n",
    "        else:\n",
    "            print(\"상품을 찾지 못하였습니다.\")\n",
    "    elif op == 3:\n",
    "        prodName = input(\"상품관리3-상품 확인) 확인하고자 하는 상품은?\")\n",
    "        if prodName in prodList:\n",
    "            print(f\"{prodName} 검색 완료\")\n",
    "            print(prodList)\n",
    "        else:\n",
    "            print(\"상품을 찾지 못하였습니다.\")\n",
    "    elif op == 4:\n",
    "        break\n",
    "print(\"프로그램을 종료합니다\")"
   ],
   "metadata": {
    "collapsed": false,
    "pycharm": {
     "name": "#%% code\n"
    }
   }
  },
  {
   "cell_type": "markdown",
   "source": [
    "### 실습 2. 동이름 출력하기\n",
    "문자열이 `OO동` 형태인지 여부를 판별하는 것이 핵심인 문제입니다.\n",
    "\n",
    "먼저, 알아둘만한 사실은 `문자열은 뭔가를 모아 놓은 Object이다` 라는 생각입니다. 즉, 다음과 같은 표현들이 가능합니다. `s`는 문자열입니다.\n",
    "- `s[0]`, `s[-1]`\n",
    "- `len(s)` 는 문자열의 길이를 반환합니다\n",
    "- `list(s)` 를 하면, `s`의 각 글자를 item으로 하는 list를 만들어 줍니다.\n",
    "- `'a' in s` 처럼, 그 글자의 유무를 in으로 판정할 수 있습니다.\n",
    "\n",
    "단, `append`, `remove` 같은, 직접 바꾸는 뭔가는 사용할 수 없습니다. 무엇이 가능하고 무엇이 불가능한지는 쓰면서 익히면 됩니다.\n",
    "\n",
    "즉, `s[-1]` 을 확인하면 된다는 의미입니다."
   ],
   "metadata": {
    "collapsed": false
   }
  },
  {
   "cell_type": "code",
   "execution_count": null,
   "outputs": [],
   "source": [
    "names = input().split()\n",
    "print(\"=====\\n동이름\\n=====\")\n",
    "i = 0\n",
    "while i < len(names):\n",
    "    name = names[i]\n",
    "    if name[-1] == '동':\n",
    "        print(name)\n",
    "    i += 1"
   ],
   "metadata": {
    "collapsed": false,
    "pycharm": {
     "name": "#%% code\n"
    }
   }
  },
  {
   "cell_type": "markdown",
   "source": [
    "`List`는 item으로 `List`를 가질 수 있습니다. `List` 안에는 여러분이 생각하는 거의 모든 것이 들어갈 수 있으며, `List of List of List` 같은 끔찍한 것도 간혹 쓰임새가 있습니다.\n",
    "\n",
    "지금 여러분이 만든 `names` 는 List of Strings 라고 생각할 수 있는데, 이건 사실 생각해 보면 문자들을 모든 string들을 모은 리스트입니다. 즉, `names[i]` 가 문자열이므로, `names[i][-1]` 같은 표현을 쓸 수 있습니다. 직관적으로 생각하는 바와 같이 `names`의 `i`번째의 `-1`번째 라는 식으로 따라가게 됩니다."
   ],
   "metadata": {
    "collapsed": false
   }
  },
  {
   "cell_type": "code",
   "execution_count": null,
   "outputs": [],
   "source": [
    "names = input().split()\n",
    "print(\"=====\\n동이름\\n=====\")\n",
    "i = 0\n",
    "while i < len(names):\n",
    "    if names[i][-1] == '동':\n",
    "        print(names[i])\n",
    "    i += 1"
   ],
   "metadata": {
    "collapsed": false,
    "pycharm": {
     "name": "#%% code\n"
    }
   }
  },
  {
   "cell_type": "markdown",
   "source": [
    "컴퓨터는 string을 다루기 어려워 합니다. 이런 한계를 최대한 극복하기 위해, python은 다른 언어에서 온 프로그래머를 당황시킬 만큼 강력한 기본 string 라이브러리를 제공합니다.\n",
    "\n",
    "`endswith` 메소드는 `A.endswith(B)` 형태로 쓰며, 이름이 의미하는 그대로 행동합니다."
   ],
   "metadata": {
    "collapsed": false
   }
  },
  {
   "cell_type": "code",
   "execution_count": null,
   "outputs": [],
   "source": [
    "names = input().split()\n",
    "print(\"=====\\n동이름\\n=====\")\n",
    "i = 0\n",
    "while i < len(names):\n",
    "    if names[i].endswith(\"동\"):\n",
    "        print(names[i])\n",
    "    i += 1"
   ],
   "metadata": {
    "collapsed": false,
    "pycharm": {
     "name": "#%% code\n"
    }
   }
  },
  {
   "cell_type": "markdown",
   "source": [
    "### 실습 3. 문장 내 단어 출력하기\n",
    "위 실습과 거의 똑같습니다."
   ],
   "metadata": {
    "collapsed": false,
    "pycharm": {
     "name": "#%% md\n"
    }
   }
  },
  {
   "cell_type": "code",
   "execution_count": null,
   "outputs": [],
   "source": [
    "ignore = [\"a\", \"an\", \"the\", \"A\", \"An\", \"The\"]\n",
    "words = input(\"Input : \").split()\n",
    "filteredWords = []\n",
    "i = 0\n",
    "while i < len(words):\n",
    "    if words[i] not in ignore:\n",
    "        filteredWords.append(words[i])\n",
    "    i += 1\n",
    "print(filteredWords)"
   ],
   "metadata": {
    "collapsed": false,
    "pycharm": {
     "name": "#%% code\n"
    }
   }
  },
  {
   "cell_type": "markdown",
   "source": [
    "파이썬에서, `이 블록에서는 아무것도 하지 않겠다` 라는 말을 나타낼 때는 `pass` 라는 구문을 씁니다. 예를 들어..."
   ],
   "metadata": {
    "collapsed": false
   }
  },
  {
   "cell_type": "code",
   "execution_count": null,
   "outputs": [],
   "source": [
    "if words[i] == 'a':\n",
    "    pass"
   ],
   "metadata": {
    "collapsed": false,
    "pycharm": {
     "name": "#%% code\n"
    }
   }
  },
  {
   "cell_type": "markdown",
   "source": [
    "이런 느낌으로 쓸 수 있습니다."
   ],
   "metadata": {
    "collapsed": false
   }
  },
  {
   "cell_type": "markdown",
   "source": [
    "### 실습 4. 복권 프로그램\n",
    "이 문제에서도, 다음과 같은 문제 세부 사항을 지켜 주세요.\n",
    "\n",
    "1. 복권 번호를 **중복되지 않게** 뽑고 싶습니다. del 이나 remove를 사용할 수 있겠죠?\n",
    "\n",
    "2. 당첨 시의 출력 형식은 `{개수}개를 맞춰 당첨금은 {금액}원입니다` 라는 형식으로, 2개 이하의 번호를 맞췄을 경우에는 `당첨되지 않았습니다` 를 출력해 주세요.\n",
    "\n",
    "3. 게임을 끝낼 때는 `총 당첨금은 {당첨금}원 입니다` 라고 출력해 주세요."
   ],
   "metadata": {
    "collapsed": false
   }
  },
  {
   "cell_type": "markdown",
   "source": [
    "Split 은 그냥 잘라만 주기 때문에, 모든 값이 숫자더라도 `input().split()`의 결과는 `['1', '2']` 이런 식입니다. 주의해 주세요. 이런 상황에 대한 대응은 크게 두 가지를 생각해 볼 수 있는데, 하나는 모든 비교를 `'1'` 처럼 문자열을 대상으로 하는 것이고, 다른 방법은 입력을 처음 받은 다음 일일히 int로 바꿔 주는 것입니다."
   ],
   "metadata": {
    "collapsed": false
   }
  },
  {
   "cell_type": "code",
   "execution_count": null,
   "outputs": [],
   "source": [
    "import random\n",
    "\n",
    "print(\"이번 주 컴또복권\\n\")\n",
    "total = 0\n",
    "\n",
    "while True:\n",
    "    lottery = input(\"네 개의 숫자를 입력하세요: \").split()\n",
    "    i = 0\n",
    "    while i < len(lottery):\n",
    "        lottery[i] = int(lottery[i])\n",
    "        i += 1\n",
    "    print(lottery)\n",
    "    candidates = [1, 2, 3, 4, 5, 6, 7, 8, 9, 10]\n",
    "    chosen = []\n",
    "    while len(chosen) < 4:\n",
    "        randomIndex = random.randint(0, len(candidates)-1)\n",
    "        num = candidates[randomIndex]\n",
    "        del candidates[randomIndex]\n",
    "        chosen.append(num)\n",
    "    print(chosen)\n",
    "    i = 0\n",
    "    correct = []\n",
    "    while i < len(lottery):\n",
    "        if lottery[i] in chosen:\n",
    "            correct.append(lottery[i])\n",
    "        i += 1\n",
    "    print(f\"맞춘 숫자는 {correct}입니다.\")\n",
    "    if len(correct) == 4:\n",
    "        print(\"4개를 맞춰 당첨금은 10000원입니다.\")\n",
    "        total += 10000\n",
    "    elif len(correct) == 3:\n",
    "        print(\"3개를 맞춰 당첨금은 5000원입니다.\")\n",
    "        total += 5000\n",
    "    else:\n",
    "        print(\"당첨되지 않았습니다. 다음 기회에...\")\n",
    "\n",
    "    replay = input(\"또 하시겠습니까? \")\n",
    "    if replay.startswith('n') or replay.startswith('N'):\n",
    "        print(f\"총 당첨금은 {total}원입니다.\")\n",
    "        break"
   ],
   "metadata": {
    "collapsed": false,
    "pycharm": {
     "name": "#%% code\n"
    }
   }
  },
  {
   "cell_type": "markdown",
   "source": [
    "python의 재미있는 함수 중 하나인데, 받은 입력을 모두 `int`로 저장하도록 강제하는 것도 가능합니다. 약간 문법이 어렵게 느껴질 수 있으니까 하나씩 뜯어보겠습니다."
   ],
   "metadata": {
    "collapsed": false,
    "pycharm": {
     "name": "#%% md\n"
    }
   }
  },
  {
   "cell_type": "code",
   "execution_count": null,
   "outputs": [],
   "source": [
    "lottery = list(map(int, input(\"네 개의 숫자를 입력하세요: \").split()))"
   ],
   "metadata": {
    "collapsed": false,
    "pycharm": {
     "name": "#%%\n"
    }
   }
  },
  {
   "cell_type": "markdown",
   "source": [
    "#### ! map을 이용한 쉬운 입력 받기\n",
    "먼저, 하나씩 뜯어보자면 `input().split()` 은 우리가 이미 알고 있는 것으로, 입력받은 문자열을 잘라 리스트로 만든 것입니다. 즉, 다음과 같이 하나씩 처리해 나가 보겠습니다.\n",
    "\n",
    "`list(map(int, 입력 리스트))`\n",
    "\n",
    "`map` 은 우리가 아직 배우지 않은 것이고 미래에 배울지 여부는 아직 잘 모르겠지만, 저 한 줄 자체를 그냥 많이 쓰기 때문에 `map`이 무엇인지 전혀 몰라도 저 한 줄만 외워도 됩니다. 잠깐 설명을 하자면, `map(f, lst)` 는, `lst`의 원소를 쭉 돌면서 `f` 라는 연산을 적용하는 역할을 합니다. 나중에 함수에 대해 배우고 나면 이부분으로 다시 돌아오겠습니다. 지금 이해하는 바는, `int(x)`가 사실은, 어떤 object `x` 를 받아서 (문자열을 받아서), 이를 숫자로 바꾼 `y`를 반환하는, 일종의 수학에서의 함수와 비슷한 뭔가라는 느낌만 가지고 있으면 됩니다. 즉, `map(int, 리스트)` 하면, 리스트의 각 원소를 모두 `int`로 씌워서 바꿔 보려고 시도합니다.\n",
    "\n",
    "그런데, 파이썬에서는 `map`해서 나온 결과물의 타입이 리스트가 아닙니다. 사실 이부분을 설명하려면 끝없이 깊어지고, 이 수업의 목표와도 거리가 멀기 때문에, 대충 그냥 `이상한 뭔가가 된다` 라고 생각하시면 됩니다. 이를 강제로 `list`로 바꿔 주면 우리의 목표가 끝납니다.\n",
    "\n",
    "이 방법은 약간 과거의 유물 같은 느낌이 조금 있습니다만, 아직도 수많은 파이썬 프로그래머들이 애용합니다. (구버전의 파이썬에 익숙했던 사람들이 특히 그렇습니다). 나중에, 조금더 현대적인 방법도 또 소개하겠습니다. 일단은 저런 방법을 많이 쓴다는 사실을 알아 두면 좋겠습니다.\n",
    "\n",
    "제가 간혹, 동영상에서 다룬 범위를 넘어가더라도 이런 부분을 설명하는 이유는 여러분이 다른 사람의 파이썬 코드를 많이 읽었으면 좋겠고, 그 과정에서 핵심적이지 않은 부분에 걸려들어서 헤매지 않았으면 좋겠기 때문입니다."
   ],
   "metadata": {
    "collapsed": false,
    "pycharm": {
     "name": "#%% md\n"
    }
   }
  },
  {
   "cell_type": "markdown",
   "source": [
    "### 실습 5. 오늘의 명언\n",
    "재미있게도, 오늘 실습 5문제 중 가장 쉬운 문제가 맨 뒤에 있습니다. 바로 해결해 봅시다."
   ],
   "metadata": {
    "collapsed": false
   }
  },
  {
   "cell_type": "code",
   "execution_count": null,
   "outputs": [],
   "source": [
    "import random\n",
    "proverb = [\n",
    "    '꿈을 지녀라. 그러면 어려운 현실을 이길 수 있다.',\n",
    "    '고생없이 얻을 수 있는 진실로 귀중한 것은 하나도 없다.',\n",
    "    '사람은 사랑할 때 누구나 시인이 된다.',\n",
    "    '시작이 반이다.',\n",
    "    '나는 사랑으로 내가 이해하는 모든 것들을 이해한다.'\n",
    "]\n",
    "print('========================')\n",
    "print(' 오늘의 명언 ')\n",
    "print('========================')\n",
    "rand_index = random.randint(0, len(proverb) - 1)\n",
    "print(proverb[rand_index])"
   ],
   "metadata": {
    "collapsed": false,
    "pycharm": {
     "name": "#%% code\n"
    }
   }
  }
 ],
 "metadata": {
  "kernelspec": {
   "display_name": "Python 3",
   "language": "python",
   "name": "python3"
  },
  "language_info": {
   "codemirror_mode": {
    "name": "ipython",
    "version": 2
   },
   "file_extension": ".py",
   "mimetype": "text/x-python",
   "name": "python",
   "nbconvert_exporter": "python",
   "pygments_lexer": "ipython2",
   "version": "2.7.6"
  }
 },
 "nbformat": 4,
 "nbformat_minor": 0
}