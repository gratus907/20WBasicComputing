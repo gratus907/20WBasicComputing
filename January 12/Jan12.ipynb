{
 "cells": [
  {
   "cell_type": "markdown",
   "source": [
    "## January 12, 2021\n",
    "공지사항\n",
    "- Team Formation 해주세요!\n",
    "- 한 학생이 제안해주었는데, 좋은 생각인것 같아서 쉽게 질문/답변할수있는 카카오톡 오픈채팅방을 만들려고 합니다. 지금까지 메일로 많은 질문을 주셨고 많이 답변 해 드렸는데, 아무래도 메일 보내는게 조금은 어렵게 느껴질 수 있을 것 같아서요. 오픈채팅방 링크로 들어와주세요"
   ],
   "metadata": {
    "collapsed": false
   }
  },
  {
   "cell_type": "markdown",
   "source": [
    "### Web Crawling / Processing\n",
    "처음으로 뭔가 제대로 된 `라이브러리 사용` 을 배울 시간입니다.\n",
    "오늘 실습은 단 2문제로, 진행 방식이 약간 다릅니다.\n",
    "\n",
    "1. 실습 이후 메인 방으로 이동하지 않습니다.\n",
    "2. 실습 2문제를 풀고 나면, 개별적으로 저한테 확인을 받고,\n",
    "3. 확인을 받으신 분은 먼저 가셔도 됩니다.\n",
    "4. 약간의 힌트와 질문에 대한 답변을 제외하면, 오늘은 솔루션을 보면서 제가 수업하는 시간은 갖지 않습니다."
   ],
   "metadata": {
    "collapsed": false
   }
  },
  {
   "cell_type": "markdown",
   "source": [
    "### 실습 진행 결과\n",
    "- 정동호 14:20 완료\n",
    "- 최민경 15:04 완료\n",
    "- 김지훈 15:30 완료\n",
    "- 이민우 15:17 완료"
   ],
   "metadata": {
    "collapsed": false
   }
  }
 ],
 "metadata": {
  "kernelspec": {
   "display_name": "Python 3",
   "language": "python",
   "name": "python3"
  },
  "language_info": {
   "codemirror_mode": {
    "name": "ipython",
    "version": 2
   },
   "file_extension": ".py",
   "mimetype": "text/x-python",
   "name": "python",
   "nbconvert_exporter": "python",
   "pygments_lexer": "ipython2",
   "version": "2.7.6"
  }
 },
 "nbformat": 4,
 "nbformat_minor": 0
}