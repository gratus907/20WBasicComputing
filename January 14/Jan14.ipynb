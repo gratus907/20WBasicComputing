{
 "cells": [
  {
   "cell_type": "markdown",
   "metadata": {
    "collapsed": true,
    "pycharm": {
     "name": "#%% md\n"
    }
   },
   "source": [
    "## January 14, 2021\n",
    "Start discussing about team project!\n",
    "팀플 과정에서의 어려운 점도 오픈채팅으로 질문하시면 제가 할수있는한 답해드리려고 합니다."
   ]
  },
  {
   "cell_type": "markdown",
   "source": [
    "### Pandas 시작하기\n",
    "`PANDAS`는 현재 표 형태의 데이터를 다루는 de facto standard 입니다. 일부 단점도 있지만, 누군가 더 나은 라이브러리를 만들지 않는 한, 여러분이 표 형태의 데이터를 다루신다면 pandas를 쓰게 되실 것입니다.\n",
    "\n",
    "이 수업 외에도, pandas 라이브러리의 여러 강력한 기능들을 배우고, 이를 실제 데이터 사이언스에 적용하는 연습을 해보고 싶으신 분은 [kaggle pandas](https://www.kaggle.com/learn/pandas) 를 추천합니다."
   ],
   "metadata": {
    "collapsed": false
   }
  },
  {
   "cell_type": "markdown",
   "source": [
    "### Problem 1. Series 만들기\n",
    "Hint\n",
    "1. `list(map(int, input().split())` 구문은 (map이 무슨 일을 하고, 등등을 별로 알고 싶지 않더라도) 외우세요. 오늘 올라갈 솔루션을 보니 조교님도 그냥 쓰기로 하셨습니다..:)\n",
    "2. `pd.Series(리스트, index = ...)`\n",
    "3. 재미있게도 Series 간에는 덧셈을 할 수 있습니다.\n"
   ],
   "metadata": {
    "collapsed": false
   }
  },
  {
   "cell_type": "code",
   "execution_count": 1,
   "outputs": [
    {
     "ename": "ValueError",
     "evalue": "invalid literal for int() with base 10: ''",
     "output_type": "error",
     "traceback": [
      "\u001B[1;31m---------------------------------------------------------------------------\u001B[0m",
      "\u001B[1;31mValueError\u001B[0m                                Traceback (most recent call last)",
      "\u001B[1;32m<ipython-input-1-b0a55e0482cc>\u001B[0m in \u001B[0;36m<module>\u001B[1;34m\u001B[0m\n\u001B[0;32m      1\u001B[0m \u001B[1;32mimport\u001B[0m \u001B[0mpandas\u001B[0m \u001B[1;32mas\u001B[0m \u001B[0mpd\u001B[0m\u001B[1;33m\u001B[0m\u001B[1;33m\u001B[0m\u001B[0m\n\u001B[0;32m      2\u001B[0m \u001B[0mnames\u001B[0m \u001B[1;33m=\u001B[0m \u001B[0minput\u001B[0m\u001B[1;33m(\u001B[0m\u001B[1;34m\"학생들의 이름 입력(,로 구분): \"\u001B[0m\u001B[1;33m)\u001B[0m\u001B[1;33m.\u001B[0m\u001B[0msplit\u001B[0m\u001B[1;33m(\u001B[0m\u001B[1;34m','\u001B[0m\u001B[1;33m)\u001B[0m\u001B[1;33m\u001B[0m\u001B[1;33m\u001B[0m\u001B[0m\n\u001B[1;32m----> 3\u001B[1;33m \u001B[0mscore_kor\u001B[0m \u001B[1;33m=\u001B[0m \u001B[0mlist\u001B[0m\u001B[1;33m(\u001B[0m\u001B[0mmap\u001B[0m\u001B[1;33m(\u001B[0m\u001B[0mint\u001B[0m\u001B[1;33m,\u001B[0m \u001B[0minput\u001B[0m\u001B[1;33m(\u001B[0m\u001B[1;34m\"학생들의 국어성적 입력(,로 구분): \"\u001B[0m\u001B[1;33m)\u001B[0m\u001B[1;33m.\u001B[0m\u001B[0msplit\u001B[0m\u001B[1;33m(\u001B[0m\u001B[1;34m','\u001B[0m\u001B[1;33m)\u001B[0m\u001B[1;33m)\u001B[0m\u001B[1;33m)\u001B[0m\u001B[1;33m\u001B[0m\u001B[1;33m\u001B[0m\u001B[0m\n\u001B[0m\u001B[0;32m      4\u001B[0m \u001B[0mscore_eng\u001B[0m \u001B[1;33m=\u001B[0m \u001B[0mlist\u001B[0m\u001B[1;33m(\u001B[0m\u001B[0mmap\u001B[0m\u001B[1;33m(\u001B[0m\u001B[0mint\u001B[0m\u001B[1;33m,\u001B[0m \u001B[0minput\u001B[0m\u001B[1;33m(\u001B[0m\u001B[1;34m\"학생들의 영어성적 입력(,로 구분): \"\u001B[0m\u001B[1;33m)\u001B[0m\u001B[1;33m.\u001B[0m\u001B[0msplit\u001B[0m\u001B[1;33m(\u001B[0m\u001B[1;34m','\u001B[0m\u001B[1;33m)\u001B[0m\u001B[1;33m)\u001B[0m\u001B[1;33m)\u001B[0m\u001B[1;33m\u001B[0m\u001B[1;33m\u001B[0m\u001B[0m\n\u001B[0;32m      5\u001B[0m \u001B[0mscore_mat\u001B[0m \u001B[1;33m=\u001B[0m \u001B[0mlist\u001B[0m\u001B[1;33m(\u001B[0m\u001B[0mmap\u001B[0m\u001B[1;33m(\u001B[0m\u001B[0mint\u001B[0m\u001B[1;33m,\u001B[0m \u001B[0minput\u001B[0m\u001B[1;33m(\u001B[0m\u001B[1;34m\"학생들의 수학성적 입력(,로 구분): \"\u001B[0m\u001B[1;33m)\u001B[0m\u001B[1;33m.\u001B[0m\u001B[0msplit\u001B[0m\u001B[1;33m(\u001B[0m\u001B[1;34m','\u001B[0m\u001B[1;33m)\u001B[0m\u001B[1;33m)\u001B[0m\u001B[1;33m)\u001B[0m\u001B[1;33m\u001B[0m\u001B[1;33m\u001B[0m\u001B[0m\n",
      "\u001B[1;31mValueError\u001B[0m: invalid literal for int() with base 10: ''"
     ]
    }
   ],
   "source": [
    "import pandas as pd\n",
    "names = input(\"학생들의 이름 입력(,로 구분): \").split(',')\n",
    "score_kor = list(map(int, input(\"학생들의 국어성적 입력(,로 구분): \").split(',')))\n",
    "score_eng = list(map(int, input(\"학생들의 영어성적 입력(,로 구분): \").split(',')))\n",
    "score_mat = list(map(int, input(\"학생들의 수학성적 입력(,로 구분): \").split(',')))\n",
    "\n",
    "ser_kor = pd.Series(score_kor, index = names)\n",
    "ser_eng = pd.Series(score_eng, index = names)\n",
    "ser_mat = pd.Series(score_mat, index = names)\n",
    "\n",
    "ser_sum = ser_kor + ser_eng + ser_mat\n",
    "\n",
    "print(\"\\n국어성적\")\n",
    "print(ser_kor)\n",
    "print(\"영어성적\")\n",
    "print(ser_eng)\n",
    "print(\"수학성적\")\n",
    "print(ser_mat)\n",
    "print(\"합계\")\n",
    "print(ser_sum)"
   ],
   "metadata": {
    "collapsed": false,
    "pycharm": {
     "name": "#%% code\n"
    }
   }
  },
  {
   "cell_type": "markdown",
   "source": [
    "### Dataframe 부분 정보 선택\n",
    "Hint\n",
    "1. 어떨 때 `loc`을, 어떨 때 `iloc`을 쓰는지 조심하세요\n",
    "2. 어떨 때 직접 index 이름을 주고, 어떨 때 번호를 주는지 조심하세요\n",
    "3. 참고 : Dataframe(2) 강의자료 3-9페이지\n",
    "4. \"\" 없이 변수명을 쓰는, `dF.국어` 같은 표현이 가능하다는 매우 이상한 특징이 있습니다. 저는 아직도 이게 너무 어색하지만...\n",
    "\n"
   ],
   "metadata": {
    "collapsed": false
   }
  },
  {
   "cell_type": "code",
   "execution_count": null,
   "outputs": [],
   "source": [
    "import pandas as pd\n",
    "df = pd.read_csv(\"gapminder.tsv\", sep = \"\\t\")\n",
    "\n",
    "# (a)\n",
    "print(df['country'])\n",
    "# (b)\n",
    "print(df[['country', 'continent', 'year']])\n",
    "# (c)\n",
    "print(df.iloc[0])\n",
    "# (d)\n",
    "print(df.iloc[[2, 4, 6]])\n",
    "# (e)\n",
    "print(df.iloc[[3, 4, 5]])\n",
    "# (f)\n",
    "print(df.iloc[[7, 8, 9, 10], [0, 3, 5]])\n",
    "# (g)\n",
    "print(df.iloc[[1, 3, 5], [0, 1, 4]])"
   ],
   "metadata": {
    "collapsed": false,
    "pycharm": {
     "name": "#%% code\n"
    }
   }
  },
  {
   "cell_type": "markdown",
   "source": [
    "`tsv` 파일은 Tab-Seperated-Values 의 약자로, tab으로 분리된 표 형태의 자료를 나타냅니다. `sep='\\t'` 가 tsv를 읽는 방법인데, `\\t`가 tab 문자를 나타내기 때문입니다.\n"
   ],
   "metadata": {
    "collapsed": false
   }
  },
  {
   "cell_type": "markdown",
   "source": [
    "### Problem 3.\n",
    "Hint\n",
    "1. 이 문제는 크게 3개의 소문제로 나누어져 있는데.. 합계(열), 평균(행), 검색 기능입니다.\n",
    "합계와 평균 기능은 Dataframe(2) 의 10페이지 산술 연산을 참고하세요.\n",
    "2. 검색 기능은, 행을 검색하는 기능이고, index명을 알고 있으므로...\n",
    "3. 입력은 똑같은 형태이므로, 1번의 입력 부분을 그대로 가지고 오세요 :)"
   ],
   "metadata": {
    "collapsed": false
   }
  },
  {
   "cell_type": "code",
   "execution_count": null,
   "outputs": [],
   "source": [
    "# 입력 부분 생략\n",
    "dF = pd.DataFrame(index = names)\n",
    "dF['국어'] = score_kor\n",
    "dF['영어'] = score_eng\n",
    "dF['수학'] = score_mat\n",
    "dF['합계'] = dF.sum(axis = 1)\n",
    "dF.loc['평균'] = dF.sum(axis = 0)//3\n",
    "print(dF)\n",
    "\n",
    "search = input(\"검색할 학생 이름은? \")\n",
    "print()\n",
    "print(dF.loc[search])"
   ],
   "metadata": {
    "collapsed": false,
    "pycharm": {
     "name": "#%% code\n"
    }
   }
  },
  {
   "cell_type": "markdown",
   "source": [
    "### Problem 4.\n",
    "Hint.\n",
    "1. 입력부터 dataframe 만드는 부분까지 3번과 똑같으니, 거기서부터 출발하면 됩니다.\n",
    "2. 정렬은 Dataframe(2) 의 11페이지 정렬을 참고하세요,"
   ],
   "metadata": {
    "collapsed": false
   }
  },
  {
   "cell_type": "code",
   "execution_count": null,
   "outputs": [],
   "source": [
    "sort_by = input('정렬 기준 선택 (1:국어, 2:영어, 3:수학, 4:합계): ')\n",
    "sort_type = input('정렬 방법 선택 (1:오름차순, 2:내림차순): ')\n",
    "if sort_by == \"1\" :\n",
    "    sort_criteria = '국어'\n",
    "elif sort_by == \"2\" :\n",
    "    sort_criteria = '영어'\n",
    "elif sort_by == \"3\" :\n",
    "    sort_criteria = '수학'\n",
    "else :\n",
    "    sort_criteria = '합계'\n",
    "\n",
    "if sort_type == \"1\" :\n",
    "    sort_type = True\n",
    "else :\n",
    "    sort_type = False\n",
    "\n",
    "sorted_dF = dF.sort_values(by = sort_criteria, ascending = sort_type)\n",
    "print()\n",
    "print(sorted_dF)"
   ],
   "metadata": {
    "collapsed": false,
    "pycharm": {
     "name": "#%% code\n"
    }
   }
  },
  {
   "cell_type": "markdown",
   "source": [
    "### Problem 5.\n",
    "데이터를 입력받아서, DataFrame을 만들고, filtering을 연습하는 문제입니다.\n",
    "\n",
    "Hint.\n",
    "1. 이름에 빈칸이 들어올때까지 input을 받아야 하니, `while True` 와 `break` 가 적당해 보입니다.\n",
    "2. `dF = pd.DataFrame(infos, index=names, columns=['성별', '나이', '직업'])`\n",
    "3. 데이터프레임을 만들었다면 이 위에서 필터링을 해야 합니다. 필터링은 Dataframe(2) 11페이지를 참고하세요.\n",
    "4. 60세 이상의 여성 이라면, `(dF.나이 >= 60) and (dF.성별 == '여')` 라고 쓰고 싶을 것 같습니다. pandas는 내부 라이브러리의 여러 복잡한 이슈 때문에 python의 and 같은 자연스러운 말들을 지원하지 않고, and 가 들어갈 자리에 `&` 를 써야 합니다. `(dF.나이 >= 60) & (dF.성별 == '여')` 를 써 보세요."
   ],
   "metadata": {
    "collapsed": false
   }
  },
  {
   "cell_type": "code",
   "execution_count": null,
   "outputs": [],
   "source": [
    "import pandas as pd\n",
    "\n",
    "names = []\n",
    "infos = []\n",
    "\n",
    "while True:\n",
    "    name = input(\"고객의 이름: \")\n",
    "    if name == '':\n",
    "        break\n",
    "    gender = input(\"고객의 성별(남/여) \")\n",
    "    age = int(input(\"고객의 나이: \"))\n",
    "    job = input(\"고객의 직업(학생/직장인/자영업/전문직/기타): \")\n",
    "    info = (gender, age, job)\n",
    "    names.append(name)\n",
    "    infos.append(info)\n",
    "\n",
    "dF = pd.DataFrame(infos, index=names, columns=['성별', '나이', '직업'])\n",
    "\n",
    "female_seniors = dF[(dF.나이 >= 60) & (dF.성별 == '여')]\n",
    "students = dF[(dF.직업 == '학생')]\n",
    "middle_ages = dF[(dF.나이 >= 30) & (dF.나이 < 50)]\n",
    "print('===================================')\n",
    "print('고객 명단: ')\n",
    "print(dF)\n",
    "print('-----------------------------------')\n",
    "print('나이가 60 이상인 여성 고객 명단: ')\n",
    "print(female_seniors)\n",
    "print('-----------------------------------')\n",
    "print('직업이 학생인 고객 명단: ')\n",
    "print(students)\n",
    "print('-----------------------------------')\n",
    "print('30, 40대 고객 명단: ')\n",
    "print(middle_ages)"
   ],
   "metadata": {
    "collapsed": false,
    "pycharm": {
     "name": "#%%\n"
    }
   }
  }
 ],
 "metadata": {
  "kernelspec": {
   "display_name": "Python 3",
   "language": "python",
   "name": "python3"
  },
  "language_info": {
   "codemirror_mode": {
    "name": "ipython",
    "version": 2
   },
   "file_extension": ".py",
   "mimetype": "text/x-python",
   "name": "python",
   "nbconvert_exporter": "python",
   "pygments_lexer": "ipython2",
   "version": "2.7.6"
  }
 },
 "nbformat": 4,
 "nbformat_minor": 0
}