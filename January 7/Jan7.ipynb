{
 "cells": [
  {
   "cell_type": "markdown",
   "source": [
    "## January 7, 2021\n",
    "Happy new year! 지난 시간 수업을 교수님께서 진행하셔서 자료를 아직 올리지 않았는데,\n",
    "consistency를 위해 웹사이트에는 수업자료가 올라갈 예정입니다.\n",
    "\n",
    "오늘의 목표는 `for` 반복문과 `tuple, set, dict` 세 `container`타입에 대한 이해입니다."
   ],
   "metadata": {
    "collapsed": false
   }
  },
  {
   "cell_type": "markdown",
   "source": [
    "어떤 경우에 함수를 쓰고 (함수로 빼서 작성하고), 어떤 경우에 그냥 작성할까요?\n",
    "절대적인 규칙이 아닌, Rule of Thumb 정도로 받아들여 주세요.\n",
    "\n",
    "1. 이게 함수로 빼면 좋지 않을까 라는 생각이 들었다면, 함수로 빼세요.\n",
    "2. 반복적으로, 여기저기서 사용되는 구문이 있다면 함수로 빼세요.\n",
    "3. 빼지 않았을 때 작성하기 귀찮을 것 같으면 함수로 빼세요.\n",
    "\n",
    "Google Python Style Guide에는 다음과 같은 조언들이 적혀 있습니다.\n",
    "- Avoid global variables. 전역 변수 사용을 피하고, 가능한한 지역변수를 쓰세요.\n",
    "- Prefer small and focused functions. 함수는 짧아야 하고, 한 가지 기능만 수행해야 합니다.\n",
    "\n",
    "당연히, 모든 규칙이 그렇듯, 예외가 있습니다. 간단히 말해서, **필요한 만큼** 쓰되, **각 함수를 간결하게** 유지하려고 노력해 주세요."
   ],
   "metadata": {
    "collapsed": false
   }
  },
  {
   "cell_type": "markdown",
   "source": [
    "### 실습 1. 패션 추천 조합\n",
    "$n$ 회 반복하는 반복문은 `while`과 `for` 중 무엇을 써도 상관 없습니다만, 보통 for문을 씁니다.\n",
    "가장 쉽게 이 문제를 해결하는 방법은 `for i in range(횟수)` 가 가장 일반적입니다.\n",
    "`range(n)` 는 자동으로 `range(0, n, 1)` 으로 해석된다는 사실을 기억하세요."
   ],
   "metadata": {
    "collapsed": false,
    "pycharm": {
     "name": "#%% md\n"
    }
   }
  },
  {
   "cell_type": "markdown",
   "source": [
    "힌트 : `random.choice(리스트)` 는, 리스트에서 랜덤하게 하나를 뽑아 줍니다.\n",
    "더 이상, `L[random.randint(0, len(L) - 1)]` 처럼 쓰지 않아도 됩니다!"
   ],
   "metadata": {
    "collapsed": false,
    "pycharm": {
     "name": "#%% md\n"
    }
   }
  },
  {
   "cell_type": "code",
   "execution_count": null,
   "outputs": [],
   "source": [
    "import random\n",
    "\n",
    "color = ['black', 'grey', 'white', 'pink', 'orange']\n",
    "topwears = ['sweater', 'shirts', 'blouse', 'jacket']\n",
    "bottomwears = ['skirt', 'pants', 'leggings', 'jeans']\n",
    "accessory = ['hat', 'tie', 'scarf', 'shoes']\n",
    "\n",
    "for i in range(3):\n",
    "    print(f\"오늘의 패션 {i + 1}번 추천 조합입니다.\")\n",
    "    print(f\"{random.choice(color)} {random.choice(topwears)}\")\n",
    "    print(f\"{random.choice(color)} {random.choice(bottomwears)}\")\n",
    "    print(f\"{random.choice(color)} {random.choice(accessory)}\")\n",
    "    print()"
   ],
   "metadata": {
    "collapsed": false,
    "pycharm": {
     "name": "#%% code\n"
    }
   }
  },
  {
   "cell_type": "markdown",
   "source": [
    "### 실습 2. 소수 찾기\n",
    "`break` 를 사용하는 방법이 있고, `return` 을 적절히 집어넣은 함수를 사용해도 좋습니다."
   ],
   "metadata": {
    "collapsed": false
   }
  },
  {
   "cell_type": "markdown",
   "source": [
    "힌트 : `range(a, b, r)` 은, $a, a+r, a+2r, \\dots a + kr$, $a + kr < b$ 입니다.\n",
    "즉, 3 이상 100 미만의 홀수를 쓰려면, `range(3, 100, 2)` 로 쓰면 되겠네요."
   ],
   "metadata": {
    "collapsed": false
   }
  },
  {
   "cell_type": "code",
   "execution_count": null,
   "outputs": [],
   "source": [
    "def is_prime(n):\n",
    "    for i in range(3, n, 2):\n",
    "        if n % i == 0:\n",
    "            return False\n",
    "    return True\n",
    "\n",
    "primes = []\n",
    "for i in range(3, 100, 2):\n",
    "    if is_prime(i):\n",
    "        primes.append(i)\n",
    "\n",
    "print(primes)"
   ],
   "metadata": {
    "collapsed": false,
    "pycharm": {
     "name": "#%% code\n"
    }
   }
  },
  {
   "cell_type": "markdown",
   "source": [
    "코드를 잘 보면, 실제로 소수인지 판정하는 부분은 `is_prime` 함수입니다. 함수 안에 보면 `return`이 여러개 있는 것을 볼 수 있는데, 함수를 실행할 때는 실행 과정에서 처음 만나는 `return`에서 그대로 함수가 끝나게 됩니다. 논리적으로 잘 따라가면 별로 어렵지 않을 것 같습니다. 물론, 위 함수 부분을 그대로 안에 집어넣어서, 이렇게 써도 됩니다."
   ],
   "metadata": {
    "collapsed": false
   }
  },
  {
   "cell_type": "code",
   "execution_count": 4,
   "outputs": [
    {
     "name": "stdout",
     "output_type": "stream",
     "text": [
      "[3, 5, 7, 11, 13, 17, 19, 23, 29, 31, 37, 41, 43, 47, 53, 59, 61, 67, 71, 73, 79, 83, 89, 97]\n"
     ]
    }
   ],
   "source": [
    "primes = []\n",
    "for i in range(3, 100, 2):\n",
    "    is_prime = True\n",
    "    for j in range(3, i, 2):\n",
    "        if i % j == 0:\n",
    "            is_prime = False\n",
    "            break\n",
    "    if is_prime:\n",
    "        primes.append(i)\n",
    "\n",
    "print(primes)"
   ],
   "metadata": {
    "collapsed": false,
    "pycharm": {
     "name": "#%%\n"
    }
   }
  },
  {
   "cell_type": "markdown",
   "source": [
    "이 경우에, 주의해야 할 점이 몇 가지 있습니다.\n",
    "- 먼저, 변수 `i` 와 `j`로 이름을 당연히 달리해야 합니다. 앞서 함수를 쓸 때는, `i`가 함수 안에 있기 때문에 실행에 문제가 없지만, 두번째 코드에서는 두 변수명이 달라야 합니다.\n",
    "- `is_prime` 은 이제 함수가 아니라 bool 형태의 변수입니다. 이 변수를 언제 True로 하고 언제 False로 하는지 주의해야 합니다. 위 코드는, 약수가 있으면 False로 하고, 기본적으로 True로 놔두는 방식입니다.\n",
    "- `is_prime` 을 확인하는 것은 반드시 j-반복문이 끝난 뒤여야 합니다. `j`반복문이 하는 일은, `i`가 소수이면 아무것도 바꾸지 않고, `i`가 홀수 약수를 가지면 `is_prime`을 False로 바꾸는 것이므로, `j`반복문의 일이 끝나야 비로소 `is_prime`이 의미있는 값을 갖기 때문입니다.\n",
    "- `break`가 없을 때, 논리적으로 문제가 있을까요? 왜 `break`를 넣어야 할까요?"
   ],
   "metadata": {
    "collapsed": false,
    "pycharm": {
     "name": "#%% md\n"
    }
   }
  },
  {
   "cell_type": "markdown",
   "source": [
    "파이썬에서만 되는 편리한 문법으로 `for...else` 문이 있습니다. 저도 한번도 써본적이 없지만 매우 편해 보입니다.\n",
    "솔직히 말하자면 저도 이 자료 준비하면서 처음 알았습니다."
   ],
   "metadata": {
    "collapsed": false
   }
  },
  {
   "cell_type": "code",
   "execution_count": 8,
   "outputs": [
    {
     "name": "stdout",
     "output_type": "stream",
     "text": [
      "[3, 5, 7, 11, 13, 17, 19, 23, 29, 31, 37, 41, 43, 47, 53, 59, 61, 67, 71, 73, 79, 83, 89, 97]\n"
     ]
    }
   ],
   "source": [
    "primes = []\n",
    "for i in range(3, 100, 2):\n",
    "    for j in range(3, i, 2):\n",
    "        if i % j == 0:\n",
    "            break\n",
    "    else:\n",
    "        primes.append(i)\n",
    "\n",
    "print(primes)"
   ],
   "metadata": {
    "collapsed": false,
    "pycharm": {
     "name": "#%% code\n"
    }
   }
  },
  {
   "cell_type": "markdown",
   "source": [
    "아무리 봐도 저는 너무 어색하게 느껴지기 때문에 잘 써먹을 수 있을지 솔직히 자신이 없습니다. 오히려 다른 문법에 익숙하지 않은 분들이 더 잘 써먹을 수 있을 것 같다는 생각이 드네요."
   ],
   "metadata": {
    "collapsed": false
   }
  },
  {
   "cell_type": "markdown",
   "source": [
    "### 실습 3. 숫자 야구 게임\n",
    "힌트 : 함수 구조를 생각해 봅시다. 함수 `check(hidden, given)` 을 만들어서, 이 함수가 strike와 ball의 개수를 잘 세어서 돌려준다면, 코드의 구조가 간단해질 것 같습니다."
   ],
   "metadata": {
    "collapsed": false
   }
  },
  {
   "cell_type": "code",
   "execution_count": null,
   "outputs": [],
   "source": [
    "import random\n",
    "\n",
    "def check(hidden, guess):\n",
    "    st = 0\n",
    "    ba = 0\n",
    "    for i in range(3):\n",
    "        if hidden[i] == guess[i]:\n",
    "            st += 1\n",
    "        elif guess[i] in hidden:\n",
    "            ba += 1\n",
    "    return st, ba\n",
    "\n",
    "hidden = random.sample(range(10), 3)\n",
    "for i in range(10):\n",
    "    guess = list(map(int, input(\"숫자 3개를 입력하세요. (예: '3 5 8') \").split()))\n",
    "    s, b = check(hidden, guess)\n",
    "    if s == 3:\n",
    "        print(\"Home run\\n게임을 종료합니다.\")\n",
    "        break\n",
    "    else:\n",
    "        print(f\"{s} strike {b} ball\")\n",
    "else:\n",
    "    print(f\"기회를 모두 소진하였습니다. 비밀숫자는 {hidden} 입니다.\")"
   ],
   "metadata": {
    "collapsed": false,
    "pycharm": {
     "name": "#%% code\n"
    }
   }
  },
  {
   "cell_type": "markdown",
   "source": [
    "### 실습 1. Tuple의 활용\n",
    "주어진 코드를 잘 뜯어보며 무엇이 가능하고, 무엇이 불가능한지 생각해 봅시다.\n",
    "- list는 내용물을 직접 바꿀 수 있지만, tuple은 할 수 없습니다.\n",
    "sort가 안 되는 것도 이것 때문입니다.\n",
    "- tuple에는 append, delete도 할 수 없습니다.\n",
    "- 이렇게 말하니 뭔가 `아니 뭐가 안되는데 어디다 쓰나요` 라는 생각이 들게 하지만, `tuple`은 `dict`의 키가 될 수 있는 반면 `list`는 불가능합니다."
   ],
   "metadata": {
    "collapsed": false,
    "pycharm": {
     "name": "#%% md\n"
    }
   }
  },
  {
   "cell_type": "markdown",
   "source": [
    "### 실습 3. 편의점 재고관리 (dict)\n",
    "`dict`의 사용법을 익히는 문제입니다.\n",
    "`storage[key]` 형태로 접근하고, `storage[key] = value` 형태로 값을 추가합니다.\n",
    "이미 있는 값은 변수에 하는 것처럼 바꿀 수 있습니다."
   ],
   "metadata": {
    "collapsed": false
   }
  },
  {
   "cell_type": "code",
   "execution_count": null,
   "outputs": [],
   "source": [
    "storage = {\n",
    "    \"커피\" : 7,\n",
    "    \"펜\" : 3,\n",
    "    \"종이컵\" : 2,\n",
    "    \"우유\" : 1,\n",
    "    \"콜라\" : 5,\n",
    "    \"책\" : 5\n",
    "}\n",
    "\n",
    "pp = {\n",
    "    \"커피\" : \"는\",\n",
    "    \"펜\" : \"은\",\n",
    "    \"종이컵\" : \"은\",\n",
    "    \"우유\" : \"는\",\n",
    "    \"콜라\" : \"는\",\n",
    "    \"책\" : \"은\"\n",
    "}\n",
    "\n",
    "def check_storage():\n",
    "    item = input(\"물건명 입력: \")\n",
    "    print(f\"{item}{pp[item]} {storage[item]}개 남았습니다.\")\n",
    "\n",
    "def sell_item():\n",
    "    item = input(\"물건명 입력: \")\n",
    "    quantity = int(input(f\"{item}의 판매 개수: \"))\n",
    "    storage[item] -= quantity\n",
    "    print(f\"{item}{pp[item]} {storage[item]}개 남았습니다.\")\n",
    "\n",
    "menu = 0\n",
    "while menu != 3:\n",
    "    print(\"-------------메뉴-------------\")\n",
    "    print(\"1. 재고확인   2. 판매   3. 종료\")\n",
    "    print(\"-----------------------------\")\n",
    "    menu = int(input(\"메뉴를 선택하세요: \"))\n",
    "    if menu == 1:\n",
    "        check_storage()\n",
    "    elif menu == 2:\n",
    "        sell_item()\n",
    "    else:\n",
    "        pass\n",
    "    print()"
   ],
   "metadata": {
    "collapsed": false,
    "pycharm": {
     "name": "#%% code\n"
    }
   }
  },
  {
   "cell_type": "markdown",
   "source": [
    "저는 조사가 안맞는게 기분나빠서 조사도 dict에 넣어서 만들었습니다 :)"
   ],
   "metadata": {
    "collapsed": false,
    "pycharm": {
     "name": "#%% md\n"
    }
   }
  },
  {
   "cell_type": "markdown",
   "source": [
    "### 실습 4. 한영사전 단어등록 및 검색 (dict)\n",
    "거의 같은 문제입니다.\n",
    "양쪽 그림이 다른데, 종료는 4번으로 하겠습니다."
   ],
   "metadata": {
    "collapsed": false
   }
  },
  {
   "cell_type": "code",
   "execution_count": null,
   "outputs": [],
   "source": [
    "koreng = dict()\n",
    "\n",
    "def add_word():\n",
    "    kor = input(\"등록할 한국어 단어 입력: \")\n",
    "    eng = input(\"등록할 영어 단어 입력: \")\n",
    "    koreng[kor] = eng\n",
    "\n",
    "def find_eng():\n",
    "    kor = input(\"검색할 단어: \")\n",
    "    print(f\"영어 : {koreng[kor]}\")\n",
    "\n",
    "def find_kor():\n",
    "    eng = input(\"검색할 단어: \")\n",
    "    for key in koreng.keys():\n",
    "        if koreng[key] == eng:\n",
    "            print(f\"한국어 : {key}\")\n",
    "\n",
    "menu = 0\n",
    "print(\"----------------------------메뉴----------------------------\")\n",
    "print(\"1. 단어 등록   2. 한국어 -> 영어   3. 영어 -> 한국어   4. 종료\")\n",
    "print(\"------------------------------------------------------------\")\n",
    "while menu != 4:\n",
    "    menu = int(input(\"메뉴를 선택하세요: \"))\n",
    "    if menu == 1:\n",
    "        add_word()\n",
    "    elif menu == 2:\n",
    "        find_eng()\n",
    "    elif menu == 3:\n",
    "        find_kor()\n",
    "    else:\n",
    "        pass\n",
    "    print()\n",
    "\n",
    "print(\"프로그램을 종료합니다.\")"
   ],
   "metadata": {
    "collapsed": false,
    "pycharm": {
     "name": "#%% code\n"
    }
   }
  }
 ],
 "metadata": {
  "kernelspec": {
   "display_name": "Python 3",
   "language": "python",
   "name": "python3"
  },
  "language_info": {
   "codemirror_mode": {
    "name": "ipython",
    "version": 2
   },
   "file_extension": ".py",
   "mimetype": "text/x-python",
   "name": "python",
   "nbconvert_exporter": "python",
   "pygments_lexer": "ipython2",
   "version": "2.7.6"
  }
 },
 "nbformat": 4,
 "nbformat_minor": 0
}